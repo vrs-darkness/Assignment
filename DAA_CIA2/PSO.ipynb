{
 "cells": [
  {
   "cell_type": "code",
   "execution_count": 1,
   "metadata": {},
   "outputs": [],
   "source": [
    "import pandas as pd\n",
    "import numpy as np\n",
    "from tqdm import tqdm\n",
    "import warnings"
   ]
  },
  {
   "cell_type": "code",
   "execution_count": 2,
   "metadata": {},
   "outputs": [],
   "source": [
    "data  = pd.read_csv('Bank_Personal_Loan_Modelling.csv')\n",
    "data.head()\n",
    "Col = list(data.columns)\n",
    "Col.remove('Personal Loan')\n",
    "Col.append('Personal Loan')\n",
    "data = data[Col].drop(columns='ZIP Code')"
   ]
  },
  {
   "cell_type": "code",
   "execution_count": 3,
   "metadata": {},
   "outputs": [],
   "source": [
    "from sklearn.model_selection import train_test_split\n",
    "X = data.values[:,:-1]\n",
    "X = X.reshape(X.shape[0],1,X.shape[1])\n",
    "Y = data.values[:,-1].reshape(X.shape[0],1)\n",
    "x_train,x_test,y_train,y_test = train_test_split(X,Y,test_size=0.25)"
   ]
  },
  {
   "cell_type": "code",
   "execution_count": 4,
   "metadata": {},
   "outputs": [],
   "source": [
    "w_inp = np.random.rand(1,12)\n",
    "w_hid = np.random.rand(1,4)"
   ]
  },
  {
   "cell_type": "code",
   "execution_count": 5,
   "metadata": {},
   "outputs": [],
   "source": [
    "def Sigmoid(x):\n",
    "    s = 1 / (1+np.exp(-1*x))\n",
    "    return s"
   ]
  },
  {
   "cell_type": "code",
   "execution_count": 6,
   "metadata": {},
   "outputs": [],
   "source": [
    "def dri_Sigmoid(x):\n",
    "    s = Sigmoid(x) * (1-Sigmoid(x))\n",
    "    return s"
   ]
  },
  {
   "cell_type": "code",
   "execution_count": 7,
   "metadata": {},
   "outputs": [],
   "source": [
    "def Predict(S,x_test,y_test):\n",
    "    from sklearn.metrics import accuracy_score\n",
    "    wI = S['w_inp']\n",
    "    wH = S['w_hid']\n",
    "    inp_out = (wI*x_test)\n",
    "    inp_out = inp_out.reshape(inp_out.shape[0],4,3).sum(axis=2)\n",
    "    inp_out = Sigmoid(inp_out)\n",
    "    hid_out = wH*inp_out\n",
    "    hid_out = hid_out.reshape(hid_out.shape[0],1,4).sum(axis=2)\n",
    "    hid_out = np.floor(Sigmoid(hid_out)) \n",
    "    \n",
    "    return accuracy_score(hid_out,y_test)*100"
   ]
  },
  {
   "cell_type": "code",
   "execution_count": 8,
   "metadata": {},
   "outputs": [],
   "source": [
    "def D1toMat(sol):\n",
    "    Z = {\n",
    "        \"w_inp\" : (sol.reshape(4,4)[:3]).reshape(1,12),\n",
    "        \"w_hid\" : sol.reshape(4,4)[-1]\n",
    "    }\n",
    "    return Z"
   ]
  },
  {
   "cell_type": "code",
   "execution_count": 9,
   "metadata": {},
   "outputs": [],
   "source": [
    "def Fitness(sol,X,Y):\n",
    "    fitness =[]\n",
    "    for i in sol :\n",
    "        Z = D1toMat(i)\n",
    "        fitness.append(Predict(Z,X,Y))\n",
    "\n",
    "    return fitness"
   ]
  },
  {
   "cell_type": "code",
   "execution_count": 10,
   "metadata": {},
   "outputs": [],
   "source": [
    "#Parameters For PSO\n",
    "Gbest = 0 \n",
    "w_aso = np.random.rand()\n",
    "r1 =  np.random.rand()\n",
    "r2 = np.random.rand()\n",
    "c1 = np.random.rand()\n",
    "c2 = np.random.rand()"
   ]
  },
  {
   "cell_type": "code",
   "execution_count": 11,
   "metadata": {},
   "outputs": [],
   "source": [
    "def Updater(DF_PSO,x_test,y_test):\n",
    "    return Fitness(list(DF_PSO['Weights'].values),x_test,y_test) "
   ]
  },
  {
   "cell_type": "code",
   "execution_count": 12,
   "metadata": {},
   "outputs": [],
   "source": [
    "def Global(prev,data):\n",
    "    data = np.array(data)\n",
    "    mtemp = data.max()\n",
    "    if(prev>mtemp):\n",
    "        return prev\n",
    "    else:\n",
    "        return mtemp"
   ]
  },
  {
   "cell_type": "code",
   "execution_count": 13,
   "metadata": {},
   "outputs": [],
   "source": [
    "# generating Population\n",
    "DF_PSO = pd.DataFrame()\n",
    "Pop = []\n",
    "pop_size = 100\n",
    "for i in range(pop_size):\n",
    "    w_inp = np.random.rand(1,12)\n",
    "    w_hid = np.random.rand(1,4)\n",
    "    temp = np.append(w_inp,w_hid,axis=1)\n",
    "    Pop.append(temp)\n",
    "DF_PSO['Weights']  = Pop\n",
    "# Generating Velocity for each sol\n",
    "V = []\n",
    "for i in range(pop_size):\n",
    "    temp = np.random.rand(1,16)\n",
    "    V.append(temp)\n",
    "DF_PSO['Velocity'] = V\n",
    "DF_PSO['Pbest'] = np.array(Updater(DF_PSO,x_test,y_test))*0.01"
   ]
  },
  {
   "cell_type": "code",
   "execution_count": 14,
   "metadata": {},
   "outputs": [],
   "source": [
    "def PSO(DF_PSO,pop_size,x_test,y_test,Gbest,w_aso,c1,c2,r1,r2,epoch=50):\n",
    "    for i in tqdm(range(epoch)):\n",
    "        Velocity = DF_PSO['Velocity'].values\n",
    "        Weights = DF_PSO['Weights'].values\n",
    "        Pbest = DF_PSO['Pbest'].values.reshape(pop_size,1)\n",
    "        Velocity = (w_aso * Velocity) + c1*r1*(Pbest -Weights ) + c2*r2*(Gbest-Weights)\n",
    "        Weights = Weights + Velocity\n",
    "        DF_PSO['Velocity'] = Velocity\n",
    "        DF_PSO['Weights'] = Weights\n",
    "        DF_PSO['Pbest'] = np.array(Updater(DF_PSO,x_test,y_test))*0.01\n",
    "    DF_PSO.sort_values(by='Pbest',ascending=False)\n",
    "    Best = D1toMat(DF_PSO['Weights'][0])\n",
    "    Fit = DF_PSO['Pbest'][0]\n",
    "    return Best,Fit*100\n",
    "    "
   ]
  },
  {
   "cell_type": "code",
   "execution_count": 15,
   "metadata": {},
   "outputs": [
    {
     "name": "stderr",
     "output_type": "stream",
     "text": [
      "100%|██████████| 100/100 [00:10<00:00,  9.90it/s]\n"
     ]
    },
    {
     "data": {
      "text/plain": [
       "({'w_inp': array([[0.8968, 0.8968, 0.8968, 0.8968, 0.8968, 0.8968, 0.8968, 0.8968,\n",
       "          0.8968, 0.8968, 0.8968, 0.8968]]),\n",
       "  'w_hid': array([0.8968, 0.8968, 0.8968, 0.8968])},\n",
       " 89.68)"
      ]
     },
     "execution_count": 15,
     "metadata": {},
     "output_type": "execute_result"
    }
   ],
   "source": [
    "Gbest = Global(Gbest,DF_PSO['Pbest'])\n",
    "PSO(DF_PSO,pop_size,x_test,y_test,Gbest,w_aso,c1,c2,r1,r2,100)"
   ]
  },
  {
   "attachments": {},
   "cell_type": "markdown",
   "metadata": {},
   "source": [
    "# END"
   ]
  }
 ],
 "metadata": {
  "kernelspec": {
   "display_name": "Python 3",
   "language": "python",
   "name": "python3"
  },
  "language_info": {
   "codemirror_mode": {
    "name": "ipython",
    "version": 3
   },
   "file_extension": ".py",
   "mimetype": "text/x-python",
   "name": "python",
   "nbconvert_exporter": "python",
   "pygments_lexer": "ipython3",
   "version": "3.10.6"
  },
  "orig_nbformat": 4
 },
 "nbformat": 4,
 "nbformat_minor": 2
}

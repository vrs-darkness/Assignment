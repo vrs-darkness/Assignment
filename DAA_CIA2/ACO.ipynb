{
 "cells": [
  {
   "cell_type": "code",
   "execution_count": 1,
   "metadata": {},
   "outputs": [],
   "source": [
    "import pandas as pd\n",
    "import numpy as np\n",
    "from tqdm import tqdm\n",
    "import warnings"
   ]
  },
  {
   "cell_type": "code",
   "execution_count": 2,
   "metadata": {},
   "outputs": [],
   "source": [
    "data  = pd.read_csv('Bank_Personal_Loan_Modelling.csv')\n",
    "data.head()\n",
    "Col = list(data.columns)\n",
    "Col.remove('Personal Loan')\n",
    "Col.append('Personal Loan')\n",
    "data = data[Col].drop(columns='ZIP Code')"
   ]
  },
  {
   "cell_type": "code",
   "execution_count": 3,
   "metadata": {},
   "outputs": [],
   "source": [
    "from sklearn.model_selection import train_test_split\n",
    "X = data.values[:,:-1]\n",
    "X = X.reshape(X.shape[0],1,X.shape[1])\n",
    "Y = data.values[:,-1].reshape(X.shape[0],1)\n",
    "x_train,x_test,y_train,y_test = train_test_split(X,Y,test_size=0.25)"
   ]
  },
  {
   "cell_type": "code",
   "execution_count": 4,
   "metadata": {},
   "outputs": [],
   "source": [
    "w_inp = np.random.rand(1,12)\n",
    "w_hid = np.random.rand(1,4)"
   ]
  },
  {
   "cell_type": "code",
   "execution_count": 5,
   "metadata": {},
   "outputs": [],
   "source": [
    "def Sigmoid(x):\n",
    "    s = 1 / (1+np.exp(-1*x))\n",
    "    return s"
   ]
  },
  {
   "cell_type": "code",
   "execution_count": 6,
   "metadata": {},
   "outputs": [],
   "source": [
    "def dri_Sigmoid(x):\n",
    "    s = Sigmoid(x) * (1-Sigmoid(x))\n",
    "    return s"
   ]
  },
  {
   "cell_type": "code",
   "execution_count": 7,
   "metadata": {},
   "outputs": [],
   "source": [
    "def Predict(S,x_test,y_test):\n",
    "    from sklearn.metrics import accuracy_score\n",
    "    wI = S['w_inp']\n",
    "    wH = S['w_hid']\n",
    "    inp_out = (wI*x_test)\n",
    "    inp_out = inp_out.reshape(inp_out.shape[0],4,3).sum(axis=2)\n",
    "    inp_out = Sigmoid(inp_out)\n",
    "    hid_out = wH*inp_out\n",
    "    hid_out = hid_out.reshape(hid_out.shape[0],1,4).sum(axis=2)\n",
    "    hid_out = np.floor(Sigmoid(hid_out))\n",
    "    \n",
    "    return accuracy_score(hid_out,y_test)*100"
   ]
  },
  {
   "cell_type": "code",
   "execution_count": 8,
   "metadata": {},
   "outputs": [],
   "source": [
    "def D1toMat(sol):\n",
    "    Z = {\n",
    "        \"w_inp\" : (sol.reshape(4,4)[:3]).reshape(1,12),\n",
    "        \"w_hid\" : sol.reshape(4,4)[-1]\n",
    "    }\n",
    "    return Z"
   ]
  },
  {
   "cell_type": "code",
   "execution_count": 9,
   "metadata": {},
   "outputs": [],
   "source": [
    "def Fitness(sol,X,Y):\n",
    "    fitness =[]\n",
    "    for i in sol :\n",
    "        Z = D1toMat(i)\n",
    "        fitness.append(Predict(Z,X,Y))\n",
    "\n",
    "    return fitness"
   ]
  },
  {
   "cell_type": "code",
   "execution_count": 10,
   "metadata": {},
   "outputs": [],
   "source": [
    "rou = np.random.rand()"
   ]
  },
  {
   "cell_type": "code",
   "execution_count": 11,
   "metadata": {},
   "outputs": [],
   "source": [
    "def Report(Weights,x_test,y_test):\n",
    "    OUT = []\n",
    "    for i in Weights:\n",
    "        Z = D1toMat(i)\n",
    "        fit = Fitness([i],x_test,y_test)[0]\n",
    "        OUT.append((Z,fit))\n",
    "    return OUT"
   ]
  },
  {
   "cell_type": "code",
   "execution_count": 12,
   "metadata": {},
   "outputs": [],
   "source": [
    "#Population Creation\n",
    "pop_size = 10\n",
    "Pop =[]\n",
    "for i in range(pop_size):\n",
    "    temp = np.random.rand(1,16)\n",
    "    Pop.append(temp)\n",
    "fitness = np.array(Fitness(Pop,x_test,y_test)) * 0.01\n",
    "\n",
    "Pop = np.array(Pop)\n",
    "Column = sorted(list(set(list(Pop.reshape(160,)))))\n",
    "Cost = np.zeros((160,160))\n",
    "Pheromon = np.ones((160,160))\n"
   ]
  },
  {
   "cell_type": "code",
   "execution_count": 13,
   "metadata": {},
   "outputs": [],
   "source": [
    "# Cost matrix Maker\n",
    "for q in range(10):\n",
    "    i = Pop[q] \n",
    "    for j in range(0,15):\n",
    "        Cost[Column.index(i[0][j])][Column.index(i[0][j+1])] = 1 / fitness[q]"
   ]
  },
  {
   "cell_type": "code",
   "execution_count": 48,
   "metadata": {},
   "outputs": [],
   "source": [
    "# Path Decider\n",
    "def Cost_path(Cost,Phermon,start,ends,Column):\n",
    "    warnings.filterwarnings('ignore')\n",
    "    P =[]\n",
    "    Sum = 0\n",
    "    for q in ends:\n",
    "        Start = Column.index(start)\n",
    "        q1 = Column.index(q)\n",
    "        Sum += (Phermon[Start][q1] * Cost[Start][q1] ) \n",
    "    Sum = Sum**(-1)\n",
    "    for q in ends:\n",
    "        val = (Phermon[Start][q1] * Cost[Start][q1]) * Sum\n",
    "        P.append(val)\n",
    "    temp  = np.random.rand()\n",
    "    for r in range(len(P)):\n",
    "        if P[r] >= temp:\n",
    "            return ends[r]\n",
    "    return ends[0]"
   ]
  },
  {
   "cell_type": "code",
   "execution_count": 49,
   "metadata": {},
   "outputs": [],
   "source": [
    "# Neighbour Finder\n",
    "def Neighbours(Pop,start):\n",
    "    neigh = []\n",
    "    for j in Pop:\n",
    "        for i in range(16):\n",
    "            temp = j[0][i]\n",
    "            if(temp==start):\n",
    "                if(i!=15 and j[0][i+1] not in neigh):\n",
    "                    neigh.append(j[0][i+1])\n",
    "                if(i!=0 and j[0][i-1] not in neigh):\n",
    "                    neigh.append(j[0][i-1])\n",
    "    return neigh"
   ]
  },
  {
   "cell_type": "code",
   "execution_count": 50,
   "metadata": {},
   "outputs": [],
   "source": [
    "def Decay(rou,Cost,Pheromon):\n",
    "    for i in range(Pheromon.shape[0]):\n",
    "        for j in range(Pheromon.shape[1]):\n",
    "            Pheromon[i][j] = (1-rou)*Pheromon[i][j] + Cost[i][j] \n",
    "    return Pheromon"
   ]
  },
  {
   "cell_type": "code",
   "execution_count": 51,
   "metadata": {},
   "outputs": [],
   "source": [
    "def Pher_change(Pheromon,Start,Next,Column):\n",
    "    Pheromon[Column.index(Start)][Column.index(Next)] +=1 \n",
    "    return Pheromon"
   ]
  },
  {
   "cell_type": "code",
   "execution_count": 52,
   "metadata": {},
   "outputs": [],
   "source": [
    "def func(x):\n",
    "    return x[1]"
   ]
  },
  {
   "cell_type": "code",
   "execution_count": 53,
   "metadata": {},
   "outputs": [],
   "source": [
    "def ACO(pop_size,Pop,Column,Cost,Pheromon,rou,x_test,y_test,trail=50):\n",
    "    Final = []\n",
    "    for i in tqdm(range(trail)):\n",
    "        Start = np.random.randint(0,len(Column))\n",
    "        temp_path =[]\n",
    "        temp_path.append(Column[Start])\n",
    "        Start = Column[Start]\n",
    "        for _ in range(15):\n",
    "            neigh = Neighbours(Pop,Start)\n",
    "            Next = Cost_path(Cost,Pheromon,Start,neigh,Column)\n",
    "            Pheromon  = Pher_change(Pheromon,Start,Next,Column)\n",
    "            Pheromon = Decay(rou,Cost,Pheromon)\n",
    "            temp_path.append(Next)\n",
    "            Start = Next\n",
    "        temp_path  = np.array(temp_path)\n",
    "        # Final(Fitness([temp_path],x_test,y_test))\n",
    "        Final.append(temp_path)\n",
    "    Final  = list(np.array(Final).reshape(len(Final),1,16))\n",
    "    return Report(Final,x_test,y_test)"
   ]
  },
  {
   "cell_type": "code",
   "execution_count": 54,
   "metadata": {},
   "outputs": [
    {
     "name": "stderr",
     "output_type": "stream",
     "text": [
      "100%|██████████| 1000/1000 [04:07<00:00,  4.04it/s]\n"
     ]
    },
    {
     "name": "stdout",
     "output_type": "stream",
     "text": [
      "({'w_inp': array([[0.47849354, 0.36812007, 0.61776524, 0.55873989, 0.16319922,\n",
      "        0.51591551, 0.16319922, 0.51591551, 0.16319922, 0.51591551,\n",
      "        0.16319922, 0.51591551]]), 'w_hid': array([0.16319922, 0.51591551, 0.16319922, 0.51591551])}, 88.8)\n"
     ]
    }
   ],
   "source": [
    "Out = ACO(pop_size,Pop,Column,Cost,Pheromon,rou,x_test,y_test,1000)\n",
    "Out_ACU = sorted(Out,key=func,reverse=True)[0]\n",
    "print(Out_ACU)"
   ]
  },
  {
   "attachments": {},
   "cell_type": "markdown",
   "metadata": {},
   "source": [
    "# END"
   ]
  }
 ],
 "metadata": {
  "kernelspec": {
   "display_name": "Python 3",
   "language": "python",
   "name": "python3"
  },
  "language_info": {
   "codemirror_mode": {
    "name": "ipython",
    "version": 3
   },
   "file_extension": ".py",
   "mimetype": "text/x-python",
   "name": "python",
   "nbconvert_exporter": "python",
   "pygments_lexer": "ipython3",
   "version": "3.10.6"
  },
  "orig_nbformat": 4
 },
 "nbformat": 4,
 "nbformat_minor": 2
}

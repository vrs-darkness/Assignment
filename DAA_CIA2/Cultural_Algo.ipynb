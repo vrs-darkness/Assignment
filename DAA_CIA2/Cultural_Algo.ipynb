{
 "cells": [
  {
   "cell_type": "code",
   "execution_count": 1,
   "metadata": {},
   "outputs": [],
   "source": [
    "import pandas as pd\n",
    "import numpy as np\n",
    "from tqdm import tqdm\n",
    "import warnings"
   ]
  },
  {
   "cell_type": "code",
   "execution_count": 2,
   "metadata": {},
   "outputs": [],
   "source": [
    "data  = pd.read_csv('Bank_Personal_Loan_Modelling.csv')\n",
    "data.head()\n",
    "Col = list(data.columns)\n",
    "Col.remove('Personal Loan')\n",
    "Col.append('Personal Loan')\n",
    "data = data[Col].drop(columns='ZIP Code')"
   ]
  },
  {
   "cell_type": "code",
   "execution_count": 3,
   "metadata": {},
   "outputs": [],
   "source": [
    "from sklearn.model_selection import train_test_split\n",
    "X = data.values[:,:-1]\n",
    "X = X.reshape(X.shape[0],1,X.shape[1])\n",
    "Y = data.values[:,-1].reshape(X.shape[0],1)\n",
    "x_train,x_test,y_train,y_test = train_test_split(X,Y,test_size=0.25)"
   ]
  },
  {
   "cell_type": "code",
   "execution_count": 4,
   "metadata": {},
   "outputs": [],
   "source": [
    "def Sigmoid(x):\n",
    "    s = 1 / (1+np.exp(-1*x))\n",
    "    return s"
   ]
  },
  {
   "cell_type": "code",
   "execution_count": 5,
   "metadata": {},
   "outputs": [],
   "source": [
    "def dri_Sigmoid(x):\n",
    "    s = Sigmoid(x) * (1-Sigmoid(x))\n",
    "    return s"
   ]
  },
  {
   "cell_type": "code",
   "execution_count": 6,
   "metadata": {},
   "outputs": [],
   "source": [
    "def Predict(S,x_test,y_test):\n",
    "    from sklearn.metrics import accuracy_score\n",
    "    wI = S['w_inp']\n",
    "    wH = S['w_hid']\n",
    "    inp_out = (wI*x_test)\n",
    "    inp_out = inp_out.reshape(inp_out.shape[0],4,3).sum(axis=2)\n",
    "    inp_out = Sigmoid(inp_out)\n",
    "    hid_out = wH*inp_out\n",
    "    hid_out = hid_out.reshape(hid_out.shape[0],1,4).sum(axis=2)\n",
    "    hid_out = np.floor(Sigmoid(hid_out))\n",
    "\n",
    "    \n",
    "    return accuracy_score(hid_out,y_test)*100"
   ]
  },
  {
   "cell_type": "code",
   "execution_count": 7,
   "metadata": {},
   "outputs": [],
   "source": [
    "w_inp = np.random.rand(1,12)\n",
    "w_hid = np.random.rand(1,4)\n",
    "Belif_Space =[]"
   ]
  },
  {
   "cell_type": "code",
   "execution_count": 8,
   "metadata": {},
   "outputs": [],
   "source": [
    "#Generating Population\n",
    "pop_no_sol = 100\n",
    "w_pop=[]\n",
    "for i in range(pop_no_sol):\n",
    "    W_inp = np.random.rand(1,12)\n",
    "    W_hid = np.random.rand(1,4)\n",
    "    temp = np.append(W_inp,W_hid,axis=1)\n",
    "    w_pop.append(temp)\n",
    "w_pop.append(np.append(w_inp,w_hid,axis=1))\n",
    "w_pop = np.array(w_pop)"
   ]
  },
  {
   "cell_type": "code",
   "execution_count": 9,
   "metadata": {},
   "outputs": [],
   "source": [
    "def D1toMat(sol):\n",
    "    Z = {\n",
    "        \"w_inp\" : (sol.reshape(4,4)[:3]).reshape(1,12),\n",
    "        \"w_hid\" : sol.reshape(4,4)[-1]\n",
    "    }\n",
    "    return Z"
   ]
  },
  {
   "cell_type": "code",
   "execution_count": 10,
   "metadata": {},
   "outputs": [],
   "source": [
    "def Fitness(sol,X,Y):\n",
    "    fitness =[]\n",
    "    for i in sol :\n",
    "        Z = D1toMat(i)\n",
    "        fitness.append(Predict(Z,X,Y))\n",
    "\n",
    "    return fitness"
   ]
  },
  {
   "cell_type": "code",
   "execution_count": 11,
   "metadata": {},
   "outputs": [],
   "source": [
    "def Belif_Space(DF):\n",
    "    return DF.sort_values(by='Fitness',ascending=False)['Weights'].values[:10]"
   ]
  },
  {
   "cell_type": "code",
   "execution_count": 12,
   "metadata": {},
   "outputs": [],
   "source": [
    "DF = pd.DataFrame()\n",
    "DF['Weights'] = list(w_pop)"
   ]
  },
  {
   "cell_type": "code",
   "execution_count": 13,
   "metadata": {},
   "outputs": [],
   "source": [
    "DF['Fitness'] = Fitness(list(DF['Weights'].values),X,Y) \n",
    "Belif_Space = Belif_Space(DF)"
   ]
  },
  {
   "cell_type": "code",
   "execution_count": 14,
   "metadata": {},
   "outputs": [],
   "source": [
    "def CrossOver(par1,par2):\n",
    "    if(isinstance(par2,int)):\n",
    "        offsp1 = np.append(DF['Weights'][par1][0][:8],DF['Weights'][par2][0][8:]).reshape(1,16)\n",
    "        offsp2 = np.append(DF['Weights'][par2][0][:8],DF['Weights'][par1][0][8:]).reshape(1,16)\n",
    "    else:\n",
    "        offsp1 = np.append(DF['Weights'][par1][0][:8],par2[0][8:]).reshape(1,16)\n",
    "        offsp2 = np.append(par2[0][:8],DF['Weights'][par1][0][8:]).reshape(1,16)\n",
    "    return offsp1,offsp2"
   ]
  },
  {
   "cell_type": "code",
   "execution_count": 15,
   "metadata": {},
   "outputs": [],
   "source": [
    "def Influence(Belif):\n",
    "    pos1 = np.random.randint(0,Belif.shape[0])\n",
    "    pos2 = np.random.randint(0,Belif.shape[0])\n",
    "    while(pos1==pos2):\n",
    "        pos2 = np.random.randint(0,Belif.shape[0])\n",
    "    inf1 = Belif[pos1]\n",
    "    inf2 = Belif[pos2]\n",
    "    return inf1,inf2"
   ]
  },
  {
   "cell_type": "code",
   "execution_count": 16,
   "metadata": {},
   "outputs": [],
   "source": [
    "def Select(size):\n",
    "    p1 = np.random.randint(0,size)\n",
    "    p2 = np.random.randint(0,size)\n",
    "    while(p2==p1):\n",
    "        p2 = np.random.randint(0,size)\n",
    "    return p1,p2"
   ]
  },
  {
   "cell_type": "code",
   "execution_count": 17,
   "metadata": {},
   "outputs": [],
   "source": [
    "def Mutate(offsp1,offsp2):\n",
    "    pos1 = np.random.randint(0,16)\n",
    "    pos2 = np.random.randint(0,16)\n",
    "    while(pos1==pos2):\n",
    "        pos2 = np.random.randint(0,16)\n",
    "    offsp1[0][pos1],offsp1[0][pos2] = offsp1[0][pos2],offsp1[0][pos1]\n",
    "    offsp2[0][pos1],offsp2[0][pos2] = offsp2[0][pos2],offsp2[0][pos1]\n",
    "    return offsp1,offsp2"
   ]
  },
  {
   "cell_type": "code",
   "execution_count": 18,
   "metadata": {},
   "outputs": [],
   "source": [
    "def Change(DF,ofs,p1,p2,x_test,y_test):\n",
    "    warnings.filterwarnings('ignore')\n",
    "    fitness = Fitness(ofs,x_test,y_test)\n",
    "    DF.loc[p1,['Weights','Fitness']]  = [ofs[0],fitness[0]]\n",
    "    DF.loc[p2,['Weights','Fitness']] = [ofs[1],fitness[1]]"
   ]
  },
  {
   "cell_type": "code",
   "execution_count": 27,
   "metadata": {},
   "outputs": [],
   "source": [
    "def Choose(d):\n",
    "    import random\n",
    "    ch1 = random.randint(0,len(d)-1)\n",
    "    ch2 = random.randint(0,len(d)-1)\n",
    "    while(ch1==ch2):\n",
    "        ch2 = random.randint(0,len(d)-1)\n",
    "    return d[ch1],d[ch2]"
   ]
  },
  {
   "cell_type": "code",
   "execution_count": 28,
   "metadata": {},
   "outputs": [],
   "source": [
    "\n",
    "def Cultural_Algo(DF,Belif,X,Y,Epoch=50):\n",
    "    for i in tqdm(range(Epoch)):\n",
    "        #Fitness\n",
    "        DF['Fitness'] = Fitness(list(DF['Weights'].values),X,Y) \n",
    "        #selection \n",
    "        p1,p2 = Select(DF['Weights'].shape[0])\n",
    "        # Influence Selection\n",
    "        inf1,inf2 = Influence(Belif)\n",
    "        #Crossover\n",
    "        o1,o2 = CrossOver(p1,inf1)\n",
    "        o3,o4 = CrossOver(p2,inf2)\n",
    "        #Mutation \n",
    "        o1,o2 = Mutate(o1,o2)\n",
    "        o3,o4 = Mutate(o3,o4)\n",
    "        d = [o1,o2,o3,o4]\n",
    "        ch1,ch2 = Choose(d)\n",
    "        ofs = np.stack((ch1,ch2))\n",
    "        #Check\n",
    "        Change(DF,ofs,p1,p2,X,Y)\n",
    "    DF.sort_values(by='Fitness',ascending=False)\n",
    "    Best = D1toMat(DF['Weights'][0])\n",
    "    Fit = DF['Fitness'][0]\n",
    "    return Best,Fit"
   ]
  },
  {
   "cell_type": "code",
   "execution_count": 29,
   "metadata": {},
   "outputs": [
    {
     "name": "stderr",
     "output_type": "stream",
     "text": [
      "100%|██████████| 1000/1000 [01:04<00:00, 15.47it/s]\n"
     ]
    },
    {
     "data": {
      "text/plain": [
       "({'w_inp': array([[0.72417188, 0.90836672, 0.34640091, 0.53506874, 0.21010481,\n",
       "          0.94473288, 0.88882908, 0.62736644, 0.15365727, 0.35334795,\n",
       "          0.75144496, 0.68779149]]),\n",
       "  'w_hid': array([0.91128709, 0.27677498, 0.93691671, 0.84296795])},\n",
       " 92.4)"
      ]
     },
     "execution_count": 29,
     "metadata": {},
     "output_type": "execute_result"
    }
   ],
   "source": [
    "Cultural_Algo(DF,Belif_Space,x_test,y_test,1000)"
   ]
  },
  {
   "attachments": {},
   "cell_type": "markdown",
   "metadata": {},
   "source": [
    "# END"
   ]
  }
 ],
 "metadata": {
  "kernelspec": {
   "display_name": "Python 3",
   "language": "python",
   "name": "python3"
  },
  "language_info": {
   "codemirror_mode": {
    "name": "ipython",
    "version": 3
   },
   "file_extension": ".py",
   "mimetype": "text/x-python",
   "name": "python",
   "nbconvert_exporter": "python",
   "pygments_lexer": "ipython3",
   "version": "3.10.6"
  },
  "orig_nbformat": 4
 },
 "nbformat": 4,
 "nbformat_minor": 2
}

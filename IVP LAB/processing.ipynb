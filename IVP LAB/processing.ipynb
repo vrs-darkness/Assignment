{
 "cells": [
  {
   "cell_type": "code",
   "execution_count": null,
   "metadata": {},
   "outputs": [],
   "source": [
    "from PIL import Image\n",
    "import numpy as np\n",
    "import cv2\n",
    "import matplotlib.pyplot as plt\n",
    "from scipy.stats import multivariate_normal\n",
    "from scipy.signal import convolve2d\n",
    "from tqdm import tqdm"
   ]
  },
  {
   "cell_type": "markdown",
   "metadata": {},
   "source": [
    "#### Get an estimate for f using <br><br> (i) Wiener filter <br> (ii) using MAP estimation <br> (iii) any deep network based approach under the following cases."
   ]
  },
  {
   "cell_type": "code",
   "execution_count": null,
   "metadata": {},
   "outputs": [],
   "source": [
    "img = Image.open(\"cute_pup.jpg\")\n",
    "img = img.resize((100,100))\n",
    "img = np.array(img)\n",
    "img = 0.3 * img[:,:,0] + 0.6 * img[:,:,1] + 0.1 * img[:,:,2]\n",
    "plt.imshow(img,cmap='gray')\n",
    "plt.title(\"orginal image\")\n",
    "plt.show()"
   ]
  },
  {
   "cell_type": "markdown",
   "metadata": {},
   "source": [
    "### case 1"
   ]
  },
  {
   "cell_type": "code",
   "execution_count": null,
   "metadata": {},
   "outputs": [],
   "source": [
    "A = np.identity(100)\n",
    "n = np.clip(np.random.normal(50,30,size=img.shape),0,255)\n",
    "g_img = (A @ img) + n \n",
    "plt.imshow(g_img,cmap='gray')\n",
    "cv2.imwrite(\"noise.jpg\",g_img)"
   ]
  },
  {
   "cell_type": "markdown",
   "metadata": {},
   "source": [
    "### Wiener's Filter"
   ]
  },
  {
   "cell_type": "code",
   "execution_count": null,
   "metadata": {},
   "outputs": [],
   "source": [
    "H = np.fft.fft2((1/500) * A,s=img.shape)\n",
    "K = 0.7 * np.ones(H.shape)\n",
    "H_1 = np.conj(H)\n",
    "Wiener_filter = H_1/(np.abs(H)**2 + K)\n",
    "G = np.fft.fft2(g_img)\n",
    "filtered_img = G * Wiener_filter\n",
    "filtered_img = np.fft.ifft2(filtered_img)\n",
    "plt.imshow(np.abs(filtered_img),cmap='gray')\n",
    "plt.title(\"Restoration using Wiener's Filter\")\n",
    "plt.show()"
   ]
  },
  {
   "cell_type": "markdown",
   "metadata": {},
   "source": [
    "### MAP Estimation"
   ]
  },
  {
   "cell_type": "code",
   "execution_count": null,
   "metadata": {},
   "outputs": [],
   "source": [
    "def estimate_psf(degraded_image, iterations):\n",
    "    # Initialize PSF as a delta function (impulse)\n",
    "    psf = np.zeros_like(degraded_image)\n",
    "    psf[degraded_image.shape[0] // 2, degraded_image.shape[1] // 2] = 1.0\n",
    "    \n",
    "    # Perform Richardson-Lucy deconvolution iterations\n",
    "    for i in range(iterations):\n",
    "        # Estimate the restored image using the current PSF\n",
    "        restored_image = deconvolve(degraded_image, psf)\n",
    "        \n",
    "        # Estimate the error image (residual)\n",
    "        error_image = degraded_image / np.maximum(restored_image, 1e-5)\n",
    "        \n",
    "        # Update PSF using the error image\n",
    "        psf = update_psf(psf, error_image)\n",
    "        \n",
    "        # Normalize PSF to sum to 1\n",
    "        psf /= np.sum(psf)\n",
    "        \n",
    "    return psf\n",
    "\n",
    "def deconvolve(image, psf,epsilon=1e-10):\n",
    "    # Perform Richardson-Lucy deconvolution\n",
    "    restored_image = np.real(np.fft.ifft2(np.fft.fft2(image) / np.maximum(np.fft.fft2(psf),epsilon)))\n",
    "    return restored_image\n",
    "\n",
    "def update_psf(psf, error_image):\n",
    "    # Update PSF using error image (e.g., by convolving error image with the transpose of the image)\n",
    "    updated_psf = np.real(np.fft.ifft2(np.fft.fft2(error_image) * np.conj(np.fft.fft2(psf))))\n",
    "    return updated_psf\n"
   ]
  },
  {
   "cell_type": "code",
   "execution_count": 7,
   "metadata": {},
   "outputs": [],
   "source": [
    "epochs = 2\n",
    "\n",
    "new_out = g_img.copy()\n",
    "FIL = A.copy()\n",
    "\n",
    "for i in tqdm(range(epochs)):\n",
    "    new_out = convolve2d(new_out, FIL, mode='same', boundary='wrap')\n",
    "    new_out_psf = estimate_psf(new_out,10)\n",
    "    prob = multivariate_normal(mean = (new_out * new_out_psf).flatten(),cov = (30*A).flatten()).pdf(new_out)\n",
    "    new_out = prob / np.sum(prob)\n",
    "    new_out = 1 - new_out\n",
    "\n",
    "plt.imshow(new_out)"
   ]
  },
  {
   "cell_type": "markdown",
   "metadata": {},
   "source": [
    "### Deep Learning model"
   ]
  },
  {
   "cell_type": "code",
   "execution_count": null,
   "metadata": {},
   "outputs": [],
   "source": [
    "import replicate\n",
    "\n",
    "\n",
    "input = {\n",
    "    \"image\" : \"https://github.com/vrs-darkness/Assignment/blob/main/IVP%20LAB/noise.jpg\"\n",
    "}\n",
    "api = replicate.Client(api_token=\"r8_HVMiznvj0NEuYa0U4cxBPQoPnhbJJr24Hh5Xh\")\n",
    "output = api.run(\n",
    "    \"cszn/scunet:df9a3c1dbc6c1f7f4c2d244f68dffa2699a169cf5e701e0d6a009bf6ff507f26\",\n",
    "    input = input\n",
    ")\n",
    "print(output)"
   ]
  },
  {
   "cell_type": "markdown",
   "metadata": {},
   "source": [
    "### case 2"
   ]
  },
  {
   "cell_type": "code",
   "execution_count": null,
   "metadata": {},
   "outputs": [],
   "source": [
    "h = np.identity(20)\n",
    "n = np.clip(np.random.normal(10,30,size=img.shape),0,255)\n",
    "g_img = np.add(cv2.filter2D(src=img,ddepth = -1,kernel = h),n)"
   ]
  },
  {
   "cell_type": "code",
   "execution_count": null,
   "metadata": {},
   "outputs": [],
   "source": [
    "plt.imshow(g_img,cmap='gray')\n",
    "plt.title(\"Noise Image\")\n",
    "plt.axis('off')\n",
    "cv2.imwrite(\"shake-pup.jpg\",g_img)\n",
    "plt.show()"
   ]
  },
  {
   "cell_type": "markdown",
   "metadata": {},
   "source": [
    "### Wiener's Filter"
   ]
  },
  {
   "cell_type": "code",
   "execution_count": null,
   "metadata": {},
   "outputs": [],
   "source": [
    "H = np.fft.fft2(h,s=img.shape)\n",
    "K = 10\n",
    "H_1 = np.conj(H)\n",
    "Wiener_filter = H_1/(H * H_1 + K)\n",
    "G = np.fft.fft2(g_img)\n",
    "filtered_img = Wiener_filter * G\n",
    "filtered_img = np.fft.ifft2(filtered_img)"
   ]
  },
  {
   "cell_type": "code",
   "execution_count": null,
   "metadata": {},
   "outputs": [],
   "source": [
    "plt.imshow(np.abs(filtered_img),cmap='gray')\n",
    "plt.title(\"Restoration using Wiener's Filter\")\n",
    "plt.show()"
   ]
  },
  {
   "cell_type": "markdown",
   "metadata": {},
   "source": [
    "### Map Estimation"
   ]
  },
  {
   "cell_type": "code",
   "execution_count": null,
   "metadata": {},
   "outputs": [],
   "source": [
    "epochs = 2\n",
    "\n",
    "new_out = g_img.copy()\n",
    "FIL = h.copy()\n",
    "\n",
    "for i in range(epochs):\n",
    "    new_out = convolve2d(new_out, FIL, mode='same', boundary='wrap')\n",
    "    new_out_psf = estimate_psf(new_out,10)\n",
    "    prob = multivariate_normal(mean = (new_out * new_out_psf).flatten(),cov = (30*A).flatten()).pdf(new_out)\n",
    "    new_out = prob / np.sum(prob)\n",
    "    new_out = 1 - new_out\n",
    "\n",
    "plt.imshow(new_out)"
   ]
  },
  {
   "cell_type": "markdown",
   "metadata": {},
   "source": [
    "### Deep Learning meathod"
   ]
  },
  {
   "cell_type": "code",
   "execution_count": null,
   "metadata": {},
   "outputs": [],
   "source": [
    "import replicate\n",
    "\n",
    "\n",
    "input = {\n",
    "    \"image\" : \"https://github.com/vrs-darkness/Assignment/blob/main/IVP%20LAB/shake-pup.jpg\",\n",
    "    \"task_type\" : \"Image Denoising\"\n",
    "}\n",
    "api = replicate.Client(api_token=\"r8_HVMiznvj0NEuYa0U4cxBPQoPnhbJJr24Hh5Xh\")\n",
    "output = api.run(\n",
    "    \"megvii-research/nafnet:e116b6df8437d9c562f9de2a86cea6fd76a96705e502f091457926bbe989436c\",\n",
    "    input = input\n",
    ")\n",
    "print(output)\n"
   ]
  },
  {
   "cell_type": "markdown",
   "metadata": {},
   "source": [
    "### END"
   ]
  }
 ],
 "metadata": {
  "kernelspec": {
   "display_name": "Python 3",
   "language": "python",
   "name": "python3"
  },
  "language_info": {
   "codemirror_mode": {
    "name": "ipython",
    "version": 3
   },
   "file_extension": ".py",
   "mimetype": "text/x-python",
   "name": "python",
   "nbconvert_exporter": "python",
   "pygments_lexer": "ipython3",
   "version": "3.11.6"
  }
 },
 "nbformat": 4,
 "nbformat_minor": 2
}
